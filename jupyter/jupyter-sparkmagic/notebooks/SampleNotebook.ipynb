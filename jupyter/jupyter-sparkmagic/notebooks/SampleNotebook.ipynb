{
 "cells": [
  {
   "cell_type": "markdown",
   "metadata": {},
   "source": [
    "# SparkMagic Sample to Access an Spark Cluster with Livy\n",
    "\n",
    "Following configuration is set in the file `sparkmagic/config.json`:\n",
    "\n",
    "````\n",
    "{\n",
    "  \"kernel_python_credentials\" : {\n",
    "    \"username\" : \"\",\n",
    "    \"password\" : \"\",\n",
    "    \"url\": \"http://[livy-hostname]:8998\",\n",
    "    \"auth\": \"None\"\n",
    "  },\n",
    "  \"session_configs\": {\n",
    "    \"driverMemory\": \"2048M\",\n",
    "    \"executorMemory\": \"2048M\",\n",
    "    \"conf\": {\n",
    "      \"spark.cores.max\":3\n",
    "    }\n",
    "  }\n",
    "}\n",
    "````\n",
    "At least you have to configure the correct hostname of Apache Livy!\n",
    "On Spark Standalone Cluster the property spark.cores.max should be set to limit ressource that will be used by this session!"
   ]
  },
  {
   "cell_type": "code",
   "execution_count": null,
   "metadata": {},
   "outputs": [],
   "source": [
    "%load_ext sparkmagic.magics\n",
    "%manage_spark"
   ]
  },
  {
   "cell_type": "code",
   "execution_count": null,
   "metadata": {},
   "outputs": [],
   "source": [
    "%%spark\n",
    "spark.version"
   ]
  },
  {
   "cell_type": "code",
   "execution_count": null,
   "metadata": {},
   "outputs": [],
   "source": [
    "%%spark\n",
    "from pyspark.sql.types import StringType\n",
    "df = spark.createDataFrame([\"20\",\"21\",\"22\",\"34\"], StringType()).toDF(\"age\")\n",
    "df.show()"
   ]
  }
 ],
 "metadata": {
  "kernelspec": {
   "display_name": "Python 3",
   "language": "python",
   "name": "python3"
  },
  "language_info": {
   "codemirror_mode": {
    "name": "ipython",
    "version": 3
   },
   "file_extension": ".py",
   "mimetype": "text/x-python",
   "name": "python",
   "nbconvert_exporter": "python",
   "pygments_lexer": "ipython3",
   "version": "3.7.6"
  }
 },
 "nbformat": 4,
 "nbformat_minor": 4
}
