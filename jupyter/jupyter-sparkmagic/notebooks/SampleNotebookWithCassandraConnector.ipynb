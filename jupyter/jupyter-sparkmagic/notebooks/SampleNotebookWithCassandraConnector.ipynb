{
 "cells": [
  {
   "cell_type": "markdown",
   "metadata": {},
   "source": [
    "# SparkMagic Sample to Access an Spark Cluster with Livy an load data from Cassandra\n",
    "\n",
    "Following configuration is set in the file `sparkmagic/config.json`:\n",
    "\n",
    "````\n",
    "{\n",
    "  \"kernel_python_credentials\" : {\n",
    "    \"username\" : \"\",\n",
    "    \"password\" : \"\",\n",
    "    \"url\": \"http://[livy-hostname]:8998\",\n",
    "    \"auth\": \"None\"\n",
    "  },\n",
    "  \"session_configs\": {\n",
    "    \"driverMemory\": \"2048M\",\n",
    "    \"executorMemory\": \"2048M\",\n",
    "    \"conf\": {\n",
    "      \"spark.jars\":\"file:///opt/additionaljars/spark-cassandra-connector_2.11-2.4.3.jar\",\n",
    "      \"spark.cores.max\":3,\n",
    "      \"spark.cassandra.input.consistency.level\": \"QUORUM\",\n",
    "      \"spark.cassandra.connection.host\": \"[cassandra-hostname]\",\n",
    "      \"spark.cassandra.auth.username\": \"username\",\n",
    "      \"spark.cassandra.auth.password\": \"password\"\n",
    "    }\n",
    "  }\n",
    "}\n",
    "````\n",
    "At least you have to configure the correct hostname of Apache Livy and the any node of the cassandra cluster inclusive username and password (if authentication is required)!\n",
    "On Spark Standalone Cluster the property spark.cores.max should be set to limit ressource that will be used by this session!\n",
    "\n",
    "Another important point is property \"spark.jars\" where the cassandra-connector as file path is set. This absolute file path must available on the livy server. Additionally you have to set the following property in Livy configuration to allow loading jars from a given folder:\n",
    "\n",
    "`livy.file.local-dir-whitelist = /opt/additionaljars/`"
   ]
  },
  {
   "cell_type": "code",
   "execution_count": null,
   "metadata": {},
   "outputs": [],
   "source": [
    "%load_ext sparkmagic.magics\n",
    "%manage_spark"
   ]
  },
  {
   "cell_type": "code",
   "execution_count": null,
   "metadata": {},
   "outputs": [],
   "source": [
    "%%spark\n",
    "spark.version"
   ]
  },
  {
   "cell_type": "code",
   "execution_count": null,
   "metadata": {},
   "outputs": [],
   "source": [
    "%%spark\n",
    "\n",
    "table_name = \"test\"\n",
    "keyspace_name = \"testkeyspace\"\n",
    "df = spark.read.format(\"org.apache.spark.sql.cassandra\").options(keyspace=keyspace_name,table=table_name).load().where(\"surname = 'Kohatz'\")\n",
    "df.show()"
   ]
  }
 ],
 "metadata": {
  "kernelspec": {
   "display_name": "Python 3",
   "language": "python",
   "name": "python3"
  },
  "language_info": {
   "codemirror_mode": {
    "name": "ipython",
    "version": 3
   },
   "file_extension": ".py",
   "mimetype": "text/x-python",
   "name": "python",
   "nbconvert_exporter": "python",
   "pygments_lexer": "ipython3",
   "version": "3.7.6"
  }
 },
 "nbformat": 4,
 "nbformat_minor": 4
}
