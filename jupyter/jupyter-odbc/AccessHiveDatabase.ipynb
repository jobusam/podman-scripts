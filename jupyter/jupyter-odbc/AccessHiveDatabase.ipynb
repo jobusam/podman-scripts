{
 "cells": [
  {
   "cell_type": "markdown",
   "metadata": {},
   "source": [
    "# Acceess Hive Database in Jupyter via ODBC \n",
    "- Use Authentication via LDAP\n",
    "- Use Autorisation via Ranger"
   ]
  },
  {
   "cell_type": "code",
   "execution_count": 4,
   "metadata": {},
   "outputs": [
    {
     "name": "stdout",
     "output_type": "stream",
     "text": [
      "Username for Hadoop / Hive:\n",
      "testuser\n",
      "Password: \n",
      "········\n"
     ]
    }
   ],
   "source": [
    "import getpass\n",
    "print(\"Username for Hadoop / Hive:\")\n",
    "username=input()\n",
    "\n",
    "print(\"Password: \")\n",
    "password = getpass.getpass()"
   ]
  },
  {
   "cell_type": "code",
   "execution_count": 5,
   "metadata": {},
   "outputs": [
    {
     "ename": "Error",
     "evalue": "('HY000', '[HY000] [Cloudera][DriverSupport] (1110) Unexpected response received from server. Please ensure the server host and port specified for the connection are correct and confirm if SSL should be enabled for the connection. (1110) (SQLDriverConnect)')",
     "output_type": "error",
     "traceback": [
      "\u001b[0;31m---------------------------------------------------------------------------\u001b[0m",
      "\u001b[0;31mError\u001b[0m                                     Traceback (most recent call last)",
      "\u001b[0;32m<ipython-input-5-2a52ca4c1ae8>\u001b[0m in \u001b[0;36m<module>\u001b[0;34m\u001b[0m\n\u001b[1;32m     18\u001b[0m \"\"\".format(host=hive_server_ip, user=username, pwd=password)\n\u001b[1;32m     19\u001b[0m \u001b[0;34m\u001b[0m\u001b[0m\n\u001b[0;32m---> 20\u001b[0;31m \u001b[0mhiveconnection\u001b[0m \u001b[0;34m=\u001b[0m \u001b[0mpyodbc\u001b[0m\u001b[0;34m.\u001b[0m\u001b[0mconnect\u001b[0m\u001b[0;34m(\u001b[0m\u001b[0mconnection_params\u001b[0m\u001b[0;34m,\u001b[0m \u001b[0mautocommit\u001b[0m\u001b[0;34m=\u001b[0m\u001b[0;32mTrue\u001b[0m\u001b[0;34m)\u001b[0m\u001b[0;34m\u001b[0m\u001b[0;34m\u001b[0m\u001b[0m\n\u001b[0m\u001b[1;32m     21\u001b[0m \u001b[0;34m\u001b[0m\u001b[0m\n\u001b[1;32m     22\u001b[0m \u001b[0mpd\u001b[0m\u001b[0;34m.\u001b[0m\u001b[0mread_sql_query\u001b[0m\u001b[0;34m(\u001b[0m\u001b[0;34mf'''Show tables from default'''\u001b[0m\u001b[0;34m,\u001b[0m\u001b[0mhiveconnection\u001b[0m\u001b[0;34m)\u001b[0m\u001b[0;34m\u001b[0m\u001b[0;34m\u001b[0m\u001b[0m\n",
      "\u001b[0;31mError\u001b[0m: ('HY000', '[HY000] [Cloudera][DriverSupport] (1110) Unexpected response received from server. Please ensure the server host and port specified for the connection are correct and confirm if SSL should be enabled for the connection. (1110) (SQLDriverConnect)')"
     ]
    }
   ],
   "source": [
    "import pyodbc\n",
    "import pandas as pd\n",
    "\n",
    "#TODO: change add IP of Hive Server 2\n",
    "hive_server_ip=\"localhost\"\n",
    "\n",
    "connection_params = \"\"\"\n",
    "DRIVER=/opt/cloudera/hiveodbc/lib/64/libclouderahiveodbc64.so;\n",
    "ServiceDiscoveryMode=0;\n",
    "Host={host};\n",
    "Port=10000;\n",
    "Schema=default;\n",
    "AuthMech=3;\n",
    "ThriftTransport=1;\n",
    "SSL=0;\n",
    "PASSWORD={pwd};\n",
    "UID={user};\n",
    "\"\"\".format(host=hive_server_ip, user=username, pwd=password)\n",
    "\n",
    "hiveconnection = pyodbc.connect(connection_params, autocommit=True)\n",
    "\n",
    "pd.read_sql_query(f'''Show tables from default''',hiveconnection)"
   ]
  },
  {
   "cell_type": "code",
   "execution_count": null,
   "metadata": {},
   "outputs": [],
   "source": []
  }
 ],
 "metadata": {
  "kernelspec": {
   "display_name": "Python 3",
   "language": "python",
   "name": "python3"
  },
  "language_info": {
   "codemirror_mode": {
    "name": "ipython",
    "version": 3
   },
   "file_extension": ".py",
   "mimetype": "text/x-python",
   "name": "python",
   "nbconvert_exporter": "python",
   "pygments_lexer": "ipython3",
   "version": "3.8.2"
  }
 },
 "nbformat": 4,
 "nbformat_minor": 4
}
